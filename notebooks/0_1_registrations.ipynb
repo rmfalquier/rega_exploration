{
 "cells": [
  {
   "cell_type": "markdown",
   "metadata": {},
   "source": [
    "### REGA Registrations\n",
    "\n",
    "https://www.rega.ch/en/our-missions/fleet-and-equipment\n",
    "\n",
    "**Helicopters**\n",
    "- HB-ZRN\n",
    "- HB-ZRP\n",
    "- HB-ZRQ\n",
    "- HB-ZRR\n",
    "- HB-ZRS\n",
    "- HB-ZRT\n",
    "- HB-ZRU\n",
    "- HB-ZRW\n",
    "- HB-ZRX\n",
    "- HB-ZRY\n",
    "- HB-ZRZ\n",
    "- HB-ZRJ\n",
    "- HB-TIB\n",
    "- HB-ZQI\n",
    "- HB-ZQJ\n",
    "- HB-ZQL\n",
    "- HB-ZQM\n",
    "- HB-ZQN\n",
    "- HB-ZQO\n",
    "\n",
    "**Airplanes**\n",
    "- HB-JWC\n",
    "- HB-JWA\n",
    "- HB-JWB"
   ]
  },
  {
   "cell_type": "markdown",
   "metadata": {},
   "source": []
  }
 ],
 "metadata": {
  "language_info": {
   "name": "python"
  }
 },
 "nbformat": 4,
 "nbformat_minor": 2
}
